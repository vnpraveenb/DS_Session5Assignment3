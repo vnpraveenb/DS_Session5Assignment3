{
 "cells": [
  {
   "cell_type": "code",
   "execution_count": 1,
   "metadata": {},
   "outputs": [
    {
     "name": "stdout",
     "output_type": "stream",
     "text": [
      "titanic_csv_df:  <class 'pandas.core.frame.DataFrame'>\n",
      "titanic_json:  <class 'str'>\n",
      "titanic_json_df:  <class 'pandas.core.frame.DataFrame'>\n",
      "The result of the match is :  True\n"
     ]
    }
   ],
   "source": [
    "#1. create a sample JSON object from titanic train dataset\n",
    "# https://raw.githubusercontent.com/pcsanwald/kaggle-titanic/master/train.csv\n",
    "\n",
    "import numpy as np\n",
    "import pandas as pd\n",
    "\n",
    "titanic_csv_df= pd.read_csv('https://raw.githubusercontent.com/pcsanwald/kaggle-titanic/master/train.csv')\n",
    "titanic_json = titanic_csv_df.to_json(orient='split')\n",
    "print(\"titanic_csv_df: \", type(titanic_csv_df))\n",
    "print(\"titanic_json: \",type(titanic_json))\n",
    "\n",
    "# Read the JSON object and convert it to pandas data frame\n",
    "\n",
    "titanic_json_df = pd.read_json(titanic_json, orient='split')\n",
    "print(\"titanic_json_df: \",type(titanic_json_df))\n",
    "\n",
    "# match the top 5 records from JSON read and actual titanic dataset\n",
    "print(\"The result of the match is : \", titanic_csv_df.head().equals(titanic_json_df.head()))\n",
    "\n"
   ]
  }
 ],
 "metadata": {
  "kernelspec": {
   "display_name": "Python 3",
   "language": "python",
   "name": "python3"
  },
  "language_info": {
   "codemirror_mode": {
    "name": "ipython",
    "version": 3
   },
   "file_extension": ".py",
   "mimetype": "text/x-python",
   "name": "python",
   "nbconvert_exporter": "python",
   "pygments_lexer": "ipython3",
   "version": "3.6.4"
  }
 },
 "nbformat": 4,
 "nbformat_minor": 2
}
